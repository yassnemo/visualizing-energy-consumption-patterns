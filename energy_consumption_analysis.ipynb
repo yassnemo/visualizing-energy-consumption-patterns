{
 "cells": [
  {
   "cell_type": "markdown",
   "metadata": {},
   "source": [
    "# Energy Consumption Analysis and Visualization\n",
    "\n",
    "This notebook demonstrates how to use the EnergyConsumptionAnalyzer class to analyze and visualize energy consumption patterns. We'll go through the following steps:\n",
    "\n",
    "1. Generating sample data\n",
    "2. Loading and preprocessing the data\n",
    "3. Performing exploratory data analysis\n",
    "4. Creating visualizations\n",
    "5. Detecting anomalies\n",
    "6. Forecasting future consumption"
   ]
  },
  {
   "cell_type": "markdown",
   "metadata": {},
   "source": [
    "## Setup\n",
    "\n",
    "First, let's import the necessary modules and functions."
   ]
  },
  {
   "cell_type": "code",
   "execution_count": null,
   "metadata": {},
   "outputs": [],
   "source": [
    "# Import the analyzer module\n",
    "from energy_analyzer import EnergyConsumptionAnalyzer, generate_sample_data\n",
    "\n",
    "# if you're using the code directly in this notebook:\n",
    "# %run \"./energy_analyzer.py\"\n",
    "\n",
    "import pandas as pd\n",
    "import numpy as np\n",
    "import matplotlib.pyplot as plt\n",
    "import plotly.express as px\n",
    "import plotly.graph_objects as go\n",
    "\n",
    "# Set up notebook display\n",
    "%matplotlib inline\n",
    "plt.style.use('ggplot')\n",
    "pd.set_option('display.max_columns', None)"
   ]
  },
  {
   "cell_type": "markdown",
   "metadata": {},
   "source": [
    "## 1. Generate Sample Data\n",
    "\n",
    "Let's create some sample energy consumption data if we don't have real data available."
   ]
  },
  {
   "cell_type": "code",
   "execution_count": null,
   "metadata": {},
   "outputs": [],
   "source": [
    "# Generate 30 days of sample data\n",
    "sample_data_path = 'sample_energy_data.csv'\n",
    "sample_data = generate_sample_data(output_file=sample_data_path, num_days=30)\n",
    "\n",
    "# Display the first few rows\n",
    "sample_data.head()"
   ]
  },
  {
   "cell_type": "markdown",
   "metadata": {},
   "source": [
    "Let's take a quick look at the structure of the generated data:"
   ]
  },
  {
   "cell_type": "code",
   "execution_count": null,
   "metadata": {},
   "outputs": [],
   "source": [
    "# Data overview\n",
    "print(f\"Data shape: {sample_data.shape}\")\n",
    "print(\"\\nData types:\")\n",
    "print(sample_data.dtypes)\n",
    "print(\"\\nBasic statistics:\")\n",
    "sample_data.describe()"
   ]
  },
  {
   "cell_type": "markdown",
   "metadata": {},
   "source": [
    "## 2. Initialize the Analyzer and Load Data\n",
    "\n",
    "Now let's initialize the EnergyConsumptionAnalyzer with our sample data."
   ]
  },
  {
   "cell_type": "code",
   "execution_count": null,
   "metadata": {},
   "outputs": [],
   "source": [
    "# Create an instance of the analyzer\n",
    "analyzer = EnergyConsumptionAnalyzer(sample_data_path)\n",
    "\n",
    "# Load the data\n",
    "raw_data = analyzer.load_data()"
   ]
  },
  {
   "cell_type": "markdown",
   "metadata": {},
   "source": [
    "## 3. Preprocess the Data\n",
    "\n",
    "Now let's preprocess the data by handling missing values, adding time-based features, etc."
   ]
  },
  {
   "cell_type": "code",
   "execution_count": null,
   "metadata": {},
   "outputs": [],
   "source": [
    "# Preprocess the data\n",
    "processed_data = analyzer.preprocess_data(consumption_col='energy_consumption')\n",
    "\n",
    "# Display the processed data\n",
    "processed_data.head()"
   ]
  },
  {
   "cell_type": "markdown",
   "metadata": {},
   "source": [
    "## 4. Exploratory Data Analysis\n",
    "\n",
    "Let's compute some basic statistics of our energy consumption data."
   ]
  },
  {
   "cell_type": "code",
   "execution_count": null,
   "metadata": {},
   "outputs": [],
   "source": [
    "# Compute statistics\n",
    "stats = analyzer.compute_statistics('energy_consumption')"
   ]
  },
  {
   "cell_type": "markdown",
   "metadata": {},
   "source": [
    "Now let's visualize the distribution of energy consumption."
   ]
  },
  {
   "cell_type": "code",
   "execution_count": null,
   "metadata": {},
   "outputs": [],
   "source": [
    "# Plot distribution\n",
    "analyzer.plot_distribution('energy_consumption')"
   ]
  },
  {
   "cell_type": "markdown",
   "metadata": {},
   "source": [
    "## 5. Time Series Analysis\n",
    "\n",
    "Let's look at the energy consumption over time."
   ]
  },
  {
   "cell_type": "code",
   "execution_count": null,
   "metadata": {},
   "outputs": [],
   "source": [
    "# Plot time series\n",
    "analyzer.plot_time_series('energy_consumption')"
   ]
  },
  {
   "cell_type": "markdown",
   "metadata": {},
   "source": [
    "Now let's decompose the time series to see trend, seasonality, and residual components."
   ]
  },
  {
   "cell_type": "code",
   "execution_count": null,
   "metadata": {},
   "outputs": [],
   "source": [
    "# Decompose time series\n",
    "decomposition = analyzer.decompose_time_series('energy_consumption', period=24)  # 24 hours for daily seasonality"
   ]
  },
  {
   "cell_type": "markdown",
   "metadata": {},
   "source": [
    "## 6. Interactive Visualizations\n",
    "\n",
    "Let's create some interactive visualizations to better understand the data."
   ]
  },
  {
   "cell_type": "code",
   "execution_count": null,
   "metadata": {},
   "outputs": [],
   "source": [
    "# Create interactive time series plot\n",
    "interactive_fig = analyzer.create_interactive_time_series('energy_consumption')"
   ]
  },
  {
   "cell_type": "markdown",
   "metadata": {},
   "source": [
    "Let's compare energy consumption across different days of the week."
   ]
  },
  {
   "cell_type": "code",
   "execution_count": null,
   "metadata": {},
   "outputs": [],
   "source": [
    "# Compare days of the week\n",
    "week_comparison = analyzer.compare_periods('energy_consumption', period='week')"
   ]
  },
  {
   "cell_type": "markdown",
   "metadata": {},
   "source": [
    "Now let's look at energy consumption by hour of the day."
   ]
  },
  {
   "cell_type": "code",
   "execution_count": null,
   "metadata": {},
   "outputs": [],
   "source": [
    "# Compare hours of the day\n",
    "day_comparison = analyzer.compare_periods('energy_consumption', period='day')"
   ]
  },
  {
   "cell_type": "markdown",
   "metadata": {},
   "source": [
    "Let's create a heatmap to visualize energy consumption patterns by hour and day of week."
   ]
  },
  {
   "cell_type": "code",
   "execution_count": null,
   "metadata": {},
   "outputs": [],
   "source": [
    "# Create heatmap\n",
    "heatmap = analyzer.create_heatmap('energy_consumption')"
   ]
  },
  {
   "cell_type": "markdown",
   "metadata": {},
   "source": [
    "## 7. Anomaly Detection\n",
    "\n",
    "Let's detect anomalies in our energy consumption data."
   ]
  },
  {
   "cell_type": "code",
   "execution_count": null,
   "metadata": {},
   "outputs": [],
   "source": [
    "# Detect anomalies\n",
    "anomalies = analyzer.detect_anomalies('energy_consumption', contamination=0.05)"
   ]
  },
  {
   "cell_type": "markdown",
   "metadata": {},
   "source": [
    "## 8. Forecasting\n",
    "\n",
    "Let's forecast future energy consumption using ARIMA model."
   ]
  },
  {
   "cell_type": "code",
   "execution_count": null,
   "metadata": {},
   "outputs": [],
   "source": [
    "# Forecast using ARIMA\n",
    "arima_forecast = analyzer.forecast_arima('energy_consumption', steps=48)  # 48 hours (2 days) ahead"
   ]
  },
  {
   "cell_type": "markdown",
   "metadata": {},
   "source": [
    "Now let's forecast using Prophet, which is better at handling multiple seasonalities."
   ]
  },
  {
   "cell_type": "code",
   "execution_count": null,
   "metadata": {},
   "outputs": [],
   "source": [
    "# Forecast using Prophet\n",
    "prophet_forecast = analyzer.forecast_prophet('energy_consumption', periods=48)  # 48 hours (2 days) ahead"
   ]
  },
  {
   "cell_type": "markdown",
   "metadata": {},
   "source": [
    "## 9. Relationships with Other Variables\n",
    "\n",
    "Let's explore the relationship between energy consumption and temperature."
   ]
  },
  {
   "cell_type": "code",
   "execution_count": null,
   "metadata": {},
   "outputs": [],
   "source": [
    "# Create a scatter plot of energy consumption vs temperature\n",
    "fig = px.scatter(analyzer.data, x='temperature', y='energy_consumption', \n",
    "                 trendline='ols', title='Energy Consumption vs Temperature')\n",
    "fig.update_layout(template='plotly_white')\n",
    "fig.show()"
   ]
  },
  {
   "cell_type": "markdown",
   "metadata": {},
   "source": [
    "Let's also check the correlation between all variables."
   ]
  },
  {
   "cell_type": "code",
   "execution_count": null,
   "metadata": {},
   "outputs": [],
   "source": [
    "# Calculate correlations\n",
    "corr = analyzer.data.corr()\n",
    "\n",
    "# Create a heatmap of correlations\n",
    "plt.figure(figsize=(10, 8))\n",
    "sns.heatmap(corr, annot=True, cmap='coolwarm', center=0)\n",
    "plt.title('Correlation Matrix')\n",
    "plt.show()"
   ]
  },
  {
   "cell_type": "markdown",
   "metadata": {},
   "source": [
    "## 10. Full Analysis Pipeline\n",
    "\n",
    "Finally, let's run the complete analysis pipeline in one go."
   ]
  },
  {
   "cell_type": "code",
   "execution_count": null,
   "metadata": {},
   "outputs": [],
   "source": [
    "# Run complete analysis\n",
    "# Note: This will repeat many of the analyses we've already done\n",
    "results = analyzer.run_complete_analysis()"
   ]
  },
  {
   "cell_type": "markdown",
   "metadata": {},
   "source": [
    "## Conclusion\n",
    "\n",
    "In this notebook, I've demonstrated how to use the EnergyConsumptionAnalyzer to:\n",
    "\n",
    "1. Load and preprocess energy consumption data\n",
    "2. Perform exploratory data analysis\n",
    "3. Visualize energy consumption patterns\n",
    "4. Detect anomalies in consumption\n",
    "5. Forecast future energy consumption\n",
    "\n",
    "These insights can help in understanding energy usage patterns, identifying anomalies that might indicate equipment malfunction, and planning for future energy needs.\n",
    "\n",
    "For a real-world application, you'd need to replace the sample data with your actual energy consumption data, and potentially customize the analysis a bit based on your specific needs."
   ]
  }
 ],
 "metadata": {
  "kernelspec": {
   "display_name": "Python 3",
   "language": "python",
   "name": "python3"
  },
  "language_info": {
   "codemirror_mode": {
    "name": "ipython",
    "version": 3
   },
   "file_extension": ".py",
   "mimetype": "text/x-python",
   "name": "python",
   "nbconvert_exporter": "python",
   "pygments_lexer": "ipython3",
   "version": "3.10.0"
  }
 },
 "nbformat": 4,
 "nbformat_minor": 4
}
